{
  "nbformat": 4,
  "nbformat_minor": 0,
  "metadata": {
    "colab": {
      "name": "HousingPrices.ipynb",
      "provenance": []
    },
    "kernelspec": {
      "name": "python3",
      "display_name": "Python 3"
    },
    "language_info": {
      "name": "python"
    },
    "accelerator": "GPU"
  },
  "cells": [
    {
      "cell_type": "code",
      "metadata": {
        "id": "ih_7o11Ka_ne"
      },
      "source": [
        "import keras \n",
        "import numpy as np \n",
        "import pandas as pd \n",
        "import matplotlib.pyplot as plt \n",
        "from tensorflow import keras\n",
        "from tensorflow.keras import layers"
      ],
      "execution_count": 19,
      "outputs": []
    },
    {
      "cell_type": "code",
      "metadata": {
        "colab": {
          "base_uri": "https://localhost:8080/"
        },
        "id": "WbRLhFtNcliN",
        "outputId": "ffaffbe6-702b-4575-c307-b3d8573ca33d"
      },
      "source": [
        "from google.colab import drive\n",
        "drive.mount('/content/drive')\n",
        "df=pd.read_csv('drive/My Drive/Courses/LearnML/LinearRegression/IowaHousingPrices.csv')"
      ],
      "execution_count": 7,
      "outputs": [
        {
          "output_type": "stream",
          "name": "stdout",
          "text": [
            "Drive already mounted at /content/drive; to attempt to forcibly remount, call drive.mount(\"/content/drive\", force_remount=True).\n"
          ]
        }
      ]
    },
    {
      "cell_type": "code",
      "metadata": {
        "id": "h8j_TyrefVcO"
      },
      "source": [
        "df = pd.read_csv('/content/drive/MyDrive/Courses/LearnML/LinearRegression/IowaHousingPrices.csv')"
      ],
      "execution_count": 8,
      "outputs": []
    },
    {
      "cell_type": "code",
      "metadata": {
        "id": "jTuxfSp7fVjx"
      },
      "source": [
        "# Set the axes\n",
        "squareFeet = df[['SquareFeet']].values # x values\n",
        "salePrice = df[['SalePrice']].values # y values"
      ],
      "execution_count": 10,
      "outputs": []
    },
    {
      "cell_type": "code",
      "metadata": {
        "id": "2WHpb7tbfV_z"
      },
      "source": [
        "# Now the model will take as input arrays of shape (None, 1)\n",
        "# and output arrays of shape (None, 1).\n",
        "model = keras.Sequential()\n",
        "model.add(keras.layers.Dense(1, input_shape=(1,)))\n",
        "opt = keras.optimizers.Adam(learning_rate=1)\n",
        "model.compile(loss='mean_squared_error', optimizer=opt)\n",
        "model.fit(squareFeet,salePrice, epochs=30, batch_size=10)"
      ],
      "execution_count": null,
      "outputs": []
    },
    {
      "cell_type": "code",
      "metadata": {
        "colab": {
          "base_uri": "https://localhost:8080/",
          "height": 313
        },
        "id": "If4Hx20pjBMg",
        "outputId": "8f71a3ff-731b-4fa8-f12b-231ca1d6cde8"
      },
      "source": [
        "# Plot datapoints\n",
        "df.plot(kind='scatter',\n",
        "       x='SquareFeet',\n",
        "       y='SalePrice', title='Housing Prices and Square Footage of Iowa Homes')\n",
        "\n",
        "# The predicted housing price based on square feet\n",
        "y_pred = model.predict(squareFeet) \n",
        "\n",
        "# Plot the linear regression line\n",
        "plt.plot(squareFeet, y_pred, color='red')"
      ],
      "execution_count": 30,
      "outputs": [
        {
          "output_type": "execute_result",
          "data": {
            "text/plain": [
              "[<matplotlib.lines.Line2D at 0x7fa611aee890>]"
            ]
          },
          "metadata": {},
          "execution_count": 30
        },
        {
          "output_type": "display_data",
          "data": {
            "image/png": "[encoded data removed]",
            "text/plain": [
              "<Figure size 432x288 with 1 Axes>"
            ]
          },
          "metadata": {
            "needs_background": "light"
          }
        }
      ]
    },
    {
      "cell_type": "code",
      "metadata": {
        "colab": {
          "base_uri": "https://localhost:8080/"
        },
        "id": "B0fyvanejrQN",
        "outputId": "0d09e18b-9272-4320-8d9c-a6f166d826bb"
      },
      "source": [
        "# Predict the price to a home which is 2000 square feet\n",
        "newSF = 3000\n",
        "print(model.predict([newSF]))"
      ],
      "execution_count": 28,
      "outputs": [
        {
          "output_type": "stream",
          "name": "stdout",
          "text": [
            "[[352691.62]]\n"
          ]
        }
      ]
    }
  ]
}