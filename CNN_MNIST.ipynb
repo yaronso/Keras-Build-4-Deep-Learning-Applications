{
  "nbformat": 4,
  "nbformat_minor": 0,
  "metadata": {
    "colab": {
      "name": "CNN-MNIST.ipynb",
      "provenance": []
    },
    "kernelspec": {
      "name": "python3",
      "display_name": "Python 3"
    },
    "language_info": {
      "name": "python"
    },
    "accelerator": "GPU"
  },
  "cells": [
    {
      "cell_type": "code",
      "metadata": {
        "colab": {
          "base_uri": "https://localhost:8080/"
        },
        "id": "XMFB8NtMqrxV",
        "outputId": "d7950e02-4128-4db9-ada4-784b4c79483f"
      },
      "source": [
        "import tensorflow.keras as tk\n",
        "mnist = tk.datasets.mnist\n",
        "(x_train, y_train), (x_test, y_test) = mnist.load_data()"
      ],
      "execution_count": 1,
      "outputs": [
        {
          "output_type": "stream",
          "name": "stdout",
          "text": [
            "Downloading data from https://storage.googleapis.com/tensorflow/tf-keras-datasets/mnist.npz\n",
            "11493376/11490434 [==============================] - 0s 0us/step\n",
            "11501568/11490434 [==============================] - 0s 0us/step\n"
          ]
        }
      ]
    },
    {
      "cell_type": "code",
      "metadata": {
        "colab": {
          "base_uri": "https://localhost:8080/",
          "height": 283
        },
        "id": "qMP90fS8rDqO",
        "outputId": "94e1a211-b2f2-40dd-dc18-6db53a8378b9"
      },
      "source": [
        "import matplotlib.pyplot as plt\n",
        "# A training image\n",
        "plt.imshow(x_train[0]) \n",
        "plt.show()\n",
        "# What the number is supposed to be\n",
        "print(\"The number is supposed to be: \", y_train[0]) "
      ],
      "execution_count": 4,
      "outputs": [
        {
          "output_type": "display_data",
          "data": {
            "image/png": "[encoded data removed]",
            "text/plain": [
              "<Figure size 432x288 with 1 Axes>"
            ]
          },
          "metadata": {
            "needs_background": "light"
          }
        },
        {
          "output_type": "stream",
          "name": "stdout",
          "text": [
            "The number is supposed to be:  5\n"
          ]
        }
      ]
    },
    {
      "cell_type": "code",
      "metadata": {
        "id": "ltpR_hXIrDyi"
      },
      "source": [
        "# Reshape the data: 28 x 28 size images\n",
        "x_train = x_train.reshape(x_train.shape[0], 28, 28, 1)\n",
        "x_test = x_test.reshape(x_test.shape[0], 28, 28, 1)\n",
        "input_shape = (28, 28, 1)\n",
        "\n",
        "# Normalize the pixel values from a scale out of 255 to a scale out of 1\n",
        "x_train = x_train.astype('float32')\n",
        "x_test = x_test.astype('float32')\n",
        "x_train /= 255\n",
        "x_test /= 255"
      ],
      "execution_count": 5,
      "outputs": []
    },
    {
      "cell_type": "code",
      "metadata": {
        "colab": {
          "base_uri": "https://localhost:8080/"
        },
        "id": "ISTob-DDrD58",
        "outputId": "9dc1e3d2-b348-44d7-9f80-33c7deafea51"
      },
      "source": [
        "from tensorflow.keras.utils import to_categorical\n",
        "# We convert the y values (numbers) into ones and zeros, making each number categorical. This is called one-hot encoding. \n",
        "print(y_train[0])\n",
        "y_train = to_categorical(y_train, 10)\n",
        "y_test = to_categorical(y_test, 10)\n",
        "print(y_train[0])"
      ],
      "execution_count": 6,
      "outputs": [
        {
          "output_type": "stream",
          "name": "stdout",
          "text": [
            "5\n",
            "[0. 0. 0. 0. 0. 1. 0. 0. 0. 0.]\n"
          ]
        }
      ]
    },
    {
      "cell_type": "code",
      "metadata": {
        "id": "RdtD5MSHwyRw"
      },
      "source": [
        "# Set the CNN model\n",
        "import keras\n",
        "model = keras.models.Sequential()\n",
        "model.add(keras.layers.Conv2D(filters=32, kernel_size=(3, 3), activation='relu',\n",
        "                              input_shape=input_shape))\n",
        "model.add(keras.layers.Conv2D(filters=64, kernel_size=(3, 3), activation='relu'))\n",
        "model.add(keras.layers.MaxPooling2D(pool_size=(2, 2)))\n",
        "model.add(keras.layers.Dropout(0.25))\n",
        "model.add(keras.layers.Flatten())\n",
        "# After the CNN there is a FNN\n",
        "model.add(keras.layers.Dense(128, activation='relu'))\n",
        "# Using Dropout to prevent overfitting & support regularization.\n",
        "model.add(keras.layers.Dropout(0.5))\n",
        "# The output layer of the FNN is one of 10 classes\n",
        "model.add(keras.layers.Dense(10, activation='softmax'))"
      ],
      "execution_count": 8,
      "outputs": []
    },
    {
      "cell_type": "code",
      "metadata": {
        "colab": {
          "base_uri": "https://localhost:8080/"
        },
        "id": "UWQrgS6PwyeS",
        "outputId": "ceace3f1-6d6a-4e5d-92e9-9ad589cc4a6d"
      },
      "source": [
        "model.compile(loss=keras.losses.categorical_crossentropy,\n",
        "              optimizer='adadelta',\n",
        "              metrics=['accuracy'])\n",
        "\n",
        "model.fit(x_train, y_train,\n",
        "          batch_size=128,\n",
        "          epochs=20,\n",
        "          validation_data=(x_test, y_test))"
      ],
      "execution_count": 10,
      "outputs": [
        {
          "output_type": "stream",
          "name": "stdout",
          "text": [
            "Epoch 1/20\n",
            "469/469 [==============================] - 8s 16ms/step - loss: 2.2295 - accuracy: 0.2629 - val_loss: 2.1843 - val_accuracy: 0.5844\n",
            "Epoch 2/20\n",
            "469/469 [==============================] - 7s 16ms/step - loss: 2.1631 - accuracy: 0.3713 - val_loss: 2.1017 - val_accuracy: 0.6631\n",
            "Epoch 3/20\n",
            "469/469 [==============================] - 7s 16ms/step - loss: 2.0783 - accuracy: 0.4495 - val_loss: 1.9904 - val_accuracy: 0.7014\n",
            "Epoch 4/20\n",
            "469/469 [==============================] - 7s 15ms/step - loss: 1.9626 - accuracy: 0.5128 - val_loss: 1.8445 - val_accuracy: 0.7277\n",
            "Epoch 5/20\n",
            "469/469 [==============================] - 8s 16ms/step - loss: 1.8189 - accuracy: 0.5574 - val_loss: 1.6664 - val_accuracy: 0.7457\n",
            "Epoch 6/20\n",
            "469/469 [==============================] - 7s 15ms/step - loss: 1.6516 - accuracy: 0.5904 - val_loss: 1.4655 - val_accuracy: 0.7670\n",
            "Epoch 7/20\n",
            "469/469 [==============================] - 7s 15ms/step - loss: 1.4863 - accuracy: 0.6162 - val_loss: 1.2664 - val_accuracy: 0.7842\n",
            "Epoch 8/20\n",
            "469/469 [==============================] - 7s 15ms/step - loss: 1.3258 - accuracy: 0.6431 - val_loss: 1.0923 - val_accuracy: 0.7983\n",
            "Epoch 9/20\n",
            "469/469 [==============================] - 7s 15ms/step - loss: 1.1968 - accuracy: 0.6616 - val_loss: 0.9538 - val_accuracy: 0.8119\n",
            "Epoch 10/20\n",
            "469/469 [==============================] - 7s 16ms/step - loss: 1.0895 - accuracy: 0.6855 - val_loss: 0.8474 - val_accuracy: 0.8223\n",
            "Epoch 11/20\n",
            "469/469 [==============================] - 7s 15ms/step - loss: 1.0151 - accuracy: 0.6989 - val_loss: 0.7673 - val_accuracy: 0.8299\n",
            "Epoch 12/20\n",
            "469/469 [==============================] - 7s 15ms/step - loss: 0.9472 - accuracy: 0.7143 - val_loss: 0.7049 - val_accuracy: 0.8382\n",
            "Epoch 13/20\n",
            "469/469 [==============================] - 7s 15ms/step - loss: 0.8926 - accuracy: 0.7266 - val_loss: 0.6555 - val_accuracy: 0.8443\n",
            "Epoch 14/20\n",
            "469/469 [==============================] - 7s 15ms/step - loss: 0.8507 - accuracy: 0.7400 - val_loss: 0.6156 - val_accuracy: 0.8477\n",
            "Epoch 15/20\n",
            "469/469 [==============================] - 7s 15ms/step - loss: 0.8120 - accuracy: 0.7479 - val_loss: 0.5822 - val_accuracy: 0.8532\n",
            "Epoch 16/20\n",
            "469/469 [==============================] - 9s 19ms/step - loss: 0.7804 - accuracy: 0.7587 - val_loss: 0.5547 - val_accuracy: 0.8582\n",
            "Epoch 17/20\n",
            "469/469 [==============================] - 8s 17ms/step - loss: 0.7512 - accuracy: 0.7658 - val_loss: 0.5308 - val_accuracy: 0.8636\n",
            "Epoch 18/20\n",
            "469/469 [==============================] - 7s 15ms/step - loss: 0.7249 - accuracy: 0.7750 - val_loss: 0.5097 - val_accuracy: 0.8676\n",
            "Epoch 19/20\n",
            "469/469 [==============================] - 7s 15ms/step - loss: 0.7042 - accuracy: 0.7807 - val_loss: 0.4916 - val_accuracy: 0.8719\n",
            "Epoch 20/20\n",
            "469/469 [==============================] - 7s 15ms/step - loss: 0.6863 - accuracy: 0.7850 - val_loss: 0.4754 - val_accuracy: 0.8747\n"
          ]
        },
        {
          "output_type": "execute_result",
          "data": {
            "text/plain": [
              "<keras.callbacks.History at 0x7f7ee00a6190>"
            ]
          },
          "metadata": {},
          "execution_count": 10
        }
      ]
    },
    {
      "cell_type": "code",
      "metadata": {
        "colab": {
          "base_uri": "https://localhost:8080/"
        },
        "id": "QF_7qc9mwyyq",
        "outputId": "93e8fbdd-a2b2-4426-ccec-2fefc9ec801f"
      },
      "source": [
        "# Will print the losss and the accuracy values\n",
        "print(model.evaluate(x_test, y_test))"
      ],
      "execution_count": 11,
      "outputs": [
        {
          "output_type": "stream",
          "name": "stdout",
          "text": [
            "313/313 [==============================] - 1s 4ms/step - loss: 0.4754 - accuracy: 0.8747\n",
            "[0.4753541052341461, 0.8747000098228455]\n"
          ]
        }
      ]
    }
  ]
}